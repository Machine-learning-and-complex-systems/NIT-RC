{
  "cells": [
    {
      "cell_type": "markdown",
      "metadata": {},
      "source": [
        "# Run RC: 1D bistable gradient system with white noise\n",
        "\n",
       "This is a simple sample of learning noise-induced transitions by RC.\\\n",
       "Following this notebook, you can conveniently use the file ``Model.py``.\\\n",
       "To simplify this notebook, most code are put in their corresponding file. If you need to run this file in Jupyter Notebook, please upload all files in this folder. A "
      ]
    },
   {
    "cell_type": "markdown",
    "metadata": {},
    "source": [
    "## 1. Initialization\n",
    "\n",
    "The following code is to import neccessary labraries and define some constant, with nothing output.\\\n",
    "Code file: `initialization.py`"
  ]
  },
  {
  "cell_type": "code",
   "execution_count": null,
   "metadata": {},
   "outputs": [],
   "source": [
  "%run initialization.py"
  ]
},
  {
  "cell_type": "markdown",
  "metadata": {},
  "source": [
  "## 2. Evaluation function\n",
  "\n",
  "The following code is to define functions for evaluation, with nothing output.\\\n",
  "Code file: `evaluation.py`"
  ]
  },
  {
  "cell_type": "code",
   "execution_count": null,
   "metadata": {},
   "outputs": [],
   "source": [
  "%run evaluation.py"
  ]
},
{
  "cell_type": "markdown",
  "metadata": {},
  "source": [
 "## 3. Reservoir Computing\n",
  "\n",
  "The following code is to define the reservoir, including initialization, training output matrix, seperating noise distribution and rolling prediction.\\\n",
  "This is an architecture of RC, with nothing output before we use it in main function.\\\n",
  "Code file: `reservoir computer.py`"
  ]
  },
  {
  "cell_type": "code",
   "execution_count": null,
   "metadata": {},
   "outputs": [],
   "source": [
  "%run reservoir computer.py"
  ]
},
  {
  "cell_type": "markdown",
  "metadata": {},
  "source": [
  "## 4. Data\n",
  "\n",
  "The following code is to generate dataset, including training set and predicting set.\\\n",
  "Code file: `reservoir computer.py`"
  ]
  },
  {
  "cell_type": "code",
   "execution_count": null,
   "metadata": {},
   "outputs": [],
   "source": [
  "%run generate data.py"
  ]
},
 {
   "cell_type": "markdown",
   "metadata": {},
   "source": [
  "## 5. Run the code\n",
  "\n",
  "The following code is the main code: you can adjust hyperparameters for RC, and adjust the mode of the code.\\\n",
  "There are two important switches you need to adjust for different mode: Load and Predict.\n",
  "\n",
  "### (1) Hyperparameters in RC\n",
  "There are 5 hyperparameters for our method, you can adjust them before running the code.\\\n",
  "Parameter N can be adjusted in `reservoir computer.py`.\\\n",
  "Adjust α at first because it represents the time scale."
  ]
  },
   {
  "cell_type": "code",
   "execution_count": null,
   "metadata": {},
   "outputs": [],
   "source": [
    "rcpara=np.zeros(5)  # hyperparameters for RC\n",
    "rcpara[0]=4  #K_{in}\n",
    "rcpara[1]=4  #D\n",
    "rcpara[2]=4000  #relevant to rho: rho=0.0012\n",
    "rcpara[3]=0.2  #alpha\n",
    "rcpara[4]=1e-8  #beta"
  ]
},
 {
   "cell_type": "markdown",
   "metadata": {},
   "source": [
  "### (2) Generate time series\n",
  "Use funcitons in `generate data.py` to generate the training and predicting set."
  ]
  },
  {
  "cell_type": "code",
   "execution_count": null,
   "metadata": {},
   "outputs": [],
   "source": [
    "Realizations=1\n",
    "parascanRange=[0.2]\n",
    "para=np.zeros(4)\n",
    "para[0]=0  #a\n",
    "para[1]=5  #b \n",
    "para[2]=0  #c \n",
    "para[3]=0.3  #epsilon  \n",
    "BinNumber=4\n",
    "Utotal=[]\n",
    "paraTest=parascanRange[0]#0.2\n",
    "para[2]=paraTest\n",
    "Utotal=[]\n",
    "u=GenerateEnsemble(Realizations,para)\n",
    "Utotal.append(u)"
  ]
},
  {
   "cell_type": "markdown",
   "metadata": {},
   "source": [
  "Figure of the part of the training data is illustrated.\n",
  "<table>\n",
  "<td> \n",
  "<img src=\"https://github.com/CCCPPP333/CCCPPP333/raw/main/myFig/True.svg\" width=\"300\"/> <br>\n",
  "</td> \n",
    "</table>"
  ]
  },
  {
  "cell_type": "markdown",
   "metadata": {},
   "source": [
  "### (3) Training phase\n",
  "To train the output matrix and to obtain separated noise distribution, we adjust two switches: Load=0, Predict=0."
  ]
  },
  {
  "cell_type": "code",
   "execution_count": null,
   "metadata": {},
   "outputs": [],
   "source": [
    "r2 = Reservoir(Utotal,rcpara)\n",
    "WoutTempReal = r2.train([paraTest]) #Acutally W_{out}\n",
    "Load=0  # Switch: 0 save matrics / 1 load saved matrics\n",
    "Predict=0  # Switch: 0 draw deterministic part / 1 draw predicted data\n",
    "if RCType==0:\n",
    "    r2.train2(WoutTempReal)\n",
    "r2._run(WoutTempReal,Load,Predict)"
  ]
},
  {
   "cell_type": "markdown",
   "metadata": {},
   "source": [
  "Figures of the deterministic part and separated noise are illustrated.\n",
  "<table>\n",
  "<td> \n",
  "<img src=\"https://github.com/CCCPPP333/CCCPPP333/raw/main/myFig/det.svg\" width=\"300\"/> <br>\n",
   "</td> \n",
    "<td> \n",
  "<img src=\"https://github.com/CCCPPP333/CCCPPP333/raw/main/myFig/dnoise.svg\" width=\"300\"/> <br>\n",
  "</td> \n",
    "</table>"
  ]
  },
{
  "cell_type": "markdown",
   "metadata": {},
   "source": [
  "### (3) Predicting phase and evaluation\n",
  "To do rolling prediction and to evaluate the transitions between test and predicted data, we adjust two switches: Load=1, Predict=1."
  ]
  },
  {
  "cell_type": "code",
   "execution_count": null,
   "metadata": {},
   "outputs": [],
   "source": [
    "for i in range (100):  #100 replicates\n",
    "    r2 = Reservoir(Utotal,rcpara)\n",
    "    WoutTempReal = r2.train([paraTest]) #Acutally W_{out}\n",
    "    Load=1  # Switch: 0 save matrics / 1 load saved matrics\n",
    "    Predict=1  # Switch: 0 draw deterministic part / 1 draw predicted data\n",
    "    if RCType==0:\n",
    "        r2.train2(WoutTempReal)\n",
    "    r2._run(WoutTempReal,Load,Predict)\n",
    "if Predict == 1:                             \n",
    "    draw_distribution(T_atimes,T_ptimes, \"Transition times\", 'Times',bins_interval=1,margin=2)\n",
    "    draw_distribution(T_ainterval, T_pinterval, \"Transition time step\", 'Time step ',bins_interval=50,margin=10)"
  ]
},
  {
   "cell_type": "markdown",
   "metadata": {},
   "source": [
  "In each replicate, figures of the predicted data and seperated noise distribution are illustrated.\n",
  "<table>\n",
  "<td> \n",
  "<img src=\"https://github.com/CCCPPP333/CCCPPP333/raw/main/myFig/predict.svg\" width=\"300\"/> <br>\n",
   "</td> \n",
    "<td> \n",
  "<img src=\"https://github.com/CCCPPP333/CCCPPP333/raw/main/myFig/dnoise.svg\" width=\"300\"/> <br>\n",
  "</td> \n",
    "</table>\n",
 "\n",
  "With the results of 100 replicates, we quantify the accuracy of our prediction by the statistics of noise-induced transitions.\n ",
  "Figures of transition time and the number of transitions are illustrated. \n",
"<table>\n",
  "<td> \n",
  "<img src=\"https://github.com/CCCPPP333/CCCPPP333/raw/main/myFig/Time.svg\" width=\"300\"/> <br>\n",
   "</td> \n",
    "<td> \n",
  "<img src=\"https://github.com/CCCPPP333/CCCPPP333/raw/main/myFig/Times.svg\" width=\"300\"/> <br>\n",
  "</td> \n",
    "</table>"
  ]
  }
  ],
  "metadata": {
    "kernelspec": {
      "display_name": "Python 3",
      "language": "python",
      "name": "python3"
    },
    "language_info": {
      "codemirror_mode": {
        "name": "ipython",
        "version": 3
      },
      "file_extension": ".py",
      "mimetype": "text/x-python",
      "name": "python",
      "nbconvert_exporter": "python",
      "pygments_lexer": "ipython3",
      "version": "3.8.12"
    }
  },
  "nbformat": 4,
  "nbformat_minor": 5
}
